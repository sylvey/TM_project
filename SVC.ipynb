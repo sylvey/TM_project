{
 "cells": [
  {
   "cell_type": "code",
   "execution_count": null,
   "id": "f0206bee-14cd-4a4a-bbb3-19bec48332d6",
   "metadata": {},
   "outputs": [],
   "source": [
    "import pandas as pd\n",
    "from sklearn.feature_extraction.text import CountVectorizer, TfidfVectorizer\n",
    "from sklearn.model_selection import train_test_split\n",
    "from sklearn.svm import SVC\n",
    "from sklearn.metrics import accuracy_score, f1_score\n",
    "\n",
    "# Load the dataset (limiting to the first 10,000 rows if necessary)\n",
    "df = pd.read_csv(\"data/song_lyrics_en.csv\").head(10000)\n",
    "\n",
    "# Use 'song_document' as features and 'popularity_bin' as the target\n",
    "X = df['song_document']\n",
    "y = df['popularity_bin']\n",
    "\n",
    "# Split the data into training and testing sets\n",
    "X_train, X_test, y_train, y_test = train_test_split(X, y, test_size=0.2, random_state=42)\n",
    "\n",
    "# Text Encoding: Bag of Words\n",
    "bow_vectorizer = CountVectorizer()\n",
    "X_train_bow = bow_vectorizer.fit_transform(X_train)\n",
    "X_test_bow = bow_vectorizer.transform(X_test)\n",
    "\n",
    "# Text Encoding: TF-IDF\n",
    "tfidf_vectorizer = TfidfVectorizer()\n",
    "X_train_tfidf = tfidf_vectorizer.fit_transform(X_train)\n",
    "X_test_tfidf = tfidf_vectorizer.transform(X_test)\n",
    "\n",
    "# Model Training: SVC for Bag of Words\n",
    "svc_bow = SVC()\n",
    "svc_bow.fit(X_train_bow, y_train)\n",
    "y_pred_bow = svc_bow.predict(X_test_bow)\n",
    "\n",
    "# Model Training: SVC for TF-IDF\n",
    "svc_tfidf = SVC()\n",
    "svc_tfidf.fit(X_train_tfidf, y_train)\n",
    "y_pred_tfidf = svc_tfidf.predict(X_test_tfidf)\n",
    "\n",
    "# Evaluation: Accuracy and F1-score for Bag of Words\n",
    "accuracy_bow = accuracy_score(y_test, y_pred_bow)\n",
    "f1_bow = f1_score(y_test, y_pred_bow, average='weighted')\n",
    "\n",
    "# Evaluation: Accuracy and F1-score for TF-IDF\n",
    "accuracy_tfidf = accuracy_score(y_test, y_pred_tfidf)\n",
    "f1_tfidf = f1_score(y_test, y_pred_tfidf, average='weighted')\n",
    "\n",
    "# Display the results\n",
    "print(f\"Bag of Words - Accuracy: {accuracy_bow:.4f}, F1-score: {f1_bow:.4f}\")\n",
    "print(f\"TF-IDF - Accuracy: {accuracy_tfidf:.4f}, F1-score: {f1_tfidf:.4f}\")\n"
   ]
  },
  {
   "cell_type": "code",
   "execution_count": null,
   "id": "70ded954-8603-4e41-9015-03334d7c7347",
   "metadata": {},
   "outputs": [],
   "source": []
  }
 ],
 "metadata": {
  "kernelspec": {
   "display_name": "Python 3 (ipykernel)",
   "language": "python",
   "name": "python3"
  },
  "language_info": {
   "codemirror_mode": {
    "name": "ipython",
    "version": 3
   },
   "file_extension": ".py",
   "mimetype": "text/x-python",
   "name": "python",
   "nbconvert_exporter": "python",
   "pygments_lexer": "ipython3",
   "version": "3.8.19"
  }
 },
 "nbformat": 4,
 "nbformat_minor": 5
}
