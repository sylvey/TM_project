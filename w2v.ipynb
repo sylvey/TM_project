{
 "cells": [
  {
   "cell_type": "code",
   "execution_count": 1,
   "metadata": {},
   "outputs": [],
   "source": [
    "import pandas as pd"
   ]
  },
  {
   "cell_type": "code",
   "execution_count": 2,
   "metadata": {},
   "outputs": [
    {
     "data": {
      "text/html": [
       "<div>\n",
       "<style scoped>\n",
       "    .dataframe tbody tr th:only-of-type {\n",
       "        vertical-align: middle;\n",
       "    }\n",
       "\n",
       "    .dataframe tbody tr th {\n",
       "        vertical-align: top;\n",
       "    }\n",
       "\n",
       "    .dataframe thead th {\n",
       "        text-align: right;\n",
       "    }\n",
       "</style>\n",
       "<table border=\"1\" class=\"dataframe\">\n",
       "  <thead>\n",
       "    <tr style=\"text-align: right;\">\n",
       "      <th></th>\n",
       "      <th>Unnamed: 0</th>\n",
       "      <th>Unnamed: 0.1</th>\n",
       "      <th>Unnamed: 0.1.1</th>\n",
       "      <th>Unnamed: 0.1.1.1</th>\n",
       "      <th>title</th>\n",
       "      <th>tag</th>\n",
       "      <th>artist</th>\n",
       "      <th>year</th>\n",
       "      <th>views</th>\n",
       "      <th>features</th>\n",
       "      <th>lyrics</th>\n",
       "      <th>id</th>\n",
       "      <th>language_cld3</th>\n",
       "      <th>language_ft</th>\n",
       "      <th>language</th>\n",
       "      <th>popularity_bin</th>\n",
       "      <th>lyrics_cleaned</th>\n",
       "      <th>feature_cleaned</th>\n",
       "      <th>song_document</th>\n",
       "    </tr>\n",
       "  </thead>\n",
       "  <tbody>\n",
       "    <tr>\n",
       "      <th>0</th>\n",
       "      <td>0</td>\n",
       "      <td>0</td>\n",
       "      <td>0</td>\n",
       "      <td>0</td>\n",
       "      <td>Killa Cam</td>\n",
       "      <td>rap</td>\n",
       "      <td>Cam'ron</td>\n",
       "      <td>2004</td>\n",
       "      <td>173166</td>\n",
       "      <td>Cam\\\\ron Opera Steve</td>\n",
       "      <td>Killa Cam, Killa Cam, Cam\\nKilla Cam, Killa Ca...</td>\n",
       "      <td>1</td>\n",
       "      <td>en</td>\n",
       "      <td>en</td>\n",
       "      <td>en</td>\n",
       "      <td>Medium</td>\n",
       "      <td>Killa Cam, Killa Cam, Cam\\nKilla Cam, Killa Ca...</td>\n",
       "      <td>Cam\\\\ron Opera Steve</td>\n",
       "      <td>Killa Cam Killa Cam, Killa Cam, Cam\\nKilla Cam...</td>\n",
       "    </tr>\n",
       "    <tr>\n",
       "      <th>1</th>\n",
       "      <td>1</td>\n",
       "      <td>1</td>\n",
       "      <td>1</td>\n",
       "      <td>1</td>\n",
       "      <td>Can I Live</td>\n",
       "      <td>rap</td>\n",
       "      <td>JAY-Z</td>\n",
       "      <td>1996</td>\n",
       "      <td>468624</td>\n",
       "      <td>NaN</td>\n",
       "      <td>Yeah, hah, yeah, Roc-A-Fella\\nWe invite you to...</td>\n",
       "      <td>3</td>\n",
       "      <td>en</td>\n",
       "      <td>en</td>\n",
       "      <td>en</td>\n",
       "      <td>Medium</td>\n",
       "      <td>Yeah, hah, yeah, Roc-A-Fella\\nWe invite you to...</td>\n",
       "      <td>NaN</td>\n",
       "      <td>Can I Live Yeah, hah, yeah, Roc-A-Fella\\nWe in...</td>\n",
       "    </tr>\n",
       "    <tr>\n",
       "      <th>2</th>\n",
       "      <td>2</td>\n",
       "      <td>2</td>\n",
       "      <td>2</td>\n",
       "      <td>2</td>\n",
       "      <td>Forgive Me Father</td>\n",
       "      <td>rap</td>\n",
       "      <td>Fabolous</td>\n",
       "      <td>2003</td>\n",
       "      <td>4743</td>\n",
       "      <td>NaN</td>\n",
       "      <td>Maybe cause I'm eatin\\nAnd these bastards fien...</td>\n",
       "      <td>4</td>\n",
       "      <td>en</td>\n",
       "      <td>en</td>\n",
       "      <td>en</td>\n",
       "      <td>Very Low</td>\n",
       "      <td>Maybe cause I'm eatin\\nAnd these bastards fien...</td>\n",
       "      <td>NaN</td>\n",
       "      <td>Forgive Me Father Maybe cause I'm eatin\\nAnd t...</td>\n",
       "    </tr>\n",
       "    <tr>\n",
       "      <th>3</th>\n",
       "      <td>3</td>\n",
       "      <td>3</td>\n",
       "      <td>3</td>\n",
       "      <td>3</td>\n",
       "      <td>Down and Out</td>\n",
       "      <td>rap</td>\n",
       "      <td>Cam'ron</td>\n",
       "      <td>2004</td>\n",
       "      <td>144404</td>\n",
       "      <td>Cam\\\\ron Kanye West Syleena Johnson</td>\n",
       "      <td>Ugh, Killa!\\nBaby!\\nKanye, this that 1970s Her...</td>\n",
       "      <td>5</td>\n",
       "      <td>en</td>\n",
       "      <td>en</td>\n",
       "      <td>en</td>\n",
       "      <td>Medium</td>\n",
       "      <td>Ugh, Killa!\\nBaby!\\nKanye, this that 1970s Her...</td>\n",
       "      <td>Cam\\\\ron Kanye West Syleena Johnson</td>\n",
       "      <td>Down and Out Ugh, Killa!\\nBaby!\\nKanye, this t...</td>\n",
       "    </tr>\n",
       "    <tr>\n",
       "      <th>4</th>\n",
       "      <td>4</td>\n",
       "      <td>4</td>\n",
       "      <td>4</td>\n",
       "      <td>4</td>\n",
       "      <td>Fly In</td>\n",
       "      <td>rap</td>\n",
       "      <td>Lil Wayne</td>\n",
       "      <td>2005</td>\n",
       "      <td>78271</td>\n",
       "      <td>NaN</td>\n",
       "      <td>So they ask me\\n\"Young boy\\nWhat you gon' do t...</td>\n",
       "      <td>6</td>\n",
       "      <td>en</td>\n",
       "      <td>en</td>\n",
       "      <td>en</td>\n",
       "      <td>Low</td>\n",
       "      <td>So they ask me\\n\"Young boy\\nWhat you gon' do t...</td>\n",
       "      <td>NaN</td>\n",
       "      <td>Fly In So they ask me\\n\"Young boy\\nWhat you go...</td>\n",
       "    </tr>\n",
       "  </tbody>\n",
       "</table>\n",
       "</div>"
      ],
      "text/plain": [
       "   Unnamed: 0  Unnamed: 0.1  Unnamed: 0.1.1  Unnamed: 0.1.1.1  \\\n",
       "0           0             0               0                 0   \n",
       "1           1             1               1                 1   \n",
       "2           2             2               2                 2   \n",
       "3           3             3               3                 3   \n",
       "4           4             4               4                 4   \n",
       "\n",
       "               title  tag     artist  year   views  \\\n",
       "0          Killa Cam  rap    Cam'ron  2004  173166   \n",
       "1         Can I Live  rap      JAY-Z  1996  468624   \n",
       "2  Forgive Me Father  rap   Fabolous  2003    4743   \n",
       "3       Down and Out  rap    Cam'ron  2004  144404   \n",
       "4             Fly In  rap  Lil Wayne  2005   78271   \n",
       "\n",
       "                              features  \\\n",
       "0                 Cam\\\\ron Opera Steve   \n",
       "1                                  NaN   \n",
       "2                                  NaN   \n",
       "3  Cam\\\\ron Kanye West Syleena Johnson   \n",
       "4                                  NaN   \n",
       "\n",
       "                                              lyrics  id language_cld3  \\\n",
       "0  Killa Cam, Killa Cam, Cam\\nKilla Cam, Killa Ca...   1            en   \n",
       "1  Yeah, hah, yeah, Roc-A-Fella\\nWe invite you to...   3            en   \n",
       "2  Maybe cause I'm eatin\\nAnd these bastards fien...   4            en   \n",
       "3  Ugh, Killa!\\nBaby!\\nKanye, this that 1970s Her...   5            en   \n",
       "4  So they ask me\\n\"Young boy\\nWhat you gon' do t...   6            en   \n",
       "\n",
       "  language_ft language popularity_bin  \\\n",
       "0          en       en         Medium   \n",
       "1          en       en         Medium   \n",
       "2          en       en       Very Low   \n",
       "3          en       en         Medium   \n",
       "4          en       en            Low   \n",
       "\n",
       "                                      lyrics_cleaned  \\\n",
       "0  Killa Cam, Killa Cam, Cam\\nKilla Cam, Killa Ca...   \n",
       "1  Yeah, hah, yeah, Roc-A-Fella\\nWe invite you to...   \n",
       "2  Maybe cause I'm eatin\\nAnd these bastards fien...   \n",
       "3  Ugh, Killa!\\nBaby!\\nKanye, this that 1970s Her...   \n",
       "4  So they ask me\\n\"Young boy\\nWhat you gon' do t...   \n",
       "\n",
       "                       feature_cleaned  \\\n",
       "0                 Cam\\\\ron Opera Steve   \n",
       "1                                  NaN   \n",
       "2                                  NaN   \n",
       "3  Cam\\\\ron Kanye West Syleena Johnson   \n",
       "4                                  NaN   \n",
       "\n",
       "                                       song_document  \n",
       "0  Killa Cam Killa Cam, Killa Cam, Cam\\nKilla Cam...  \n",
       "1  Can I Live Yeah, hah, yeah, Roc-A-Fella\\nWe in...  \n",
       "2  Forgive Me Father Maybe cause I'm eatin\\nAnd t...  \n",
       "3  Down and Out Ugh, Killa!\\nBaby!\\nKanye, this t...  \n",
       "4  Fly In So they ask me\\n\"Young boy\\nWhat you go...  "
      ]
     },
     "execution_count": 2,
     "metadata": {},
     "output_type": "execute_result"
    }
   ],
   "source": [
    "df = pd.read_csv('data/song_lyrics_en.csv')\n",
    "\n",
    "df.head()"
   ]
  },
  {
   "cell_type": "code",
   "execution_count": 3,
   "metadata": {},
   "outputs": [],
   "source": [
    "slice_num = 10000\n",
    "df = df[:slice_num]"
   ]
  },
  {
   "cell_type": "code",
   "execution_count": 4,
   "metadata": {},
   "outputs": [
    {
     "name": "stderr",
     "output_type": "stream",
     "text": [
      "0it [00:00, ?it/s]\n",
      "TqdmDeprecationWarning: Please use `tqdm.pandas(...)` instead of `tqdm_pandas(tqdm(...))`.\n"
     ]
    },
    {
     "data": {
      "text/plain": [
       "array([[[-0.04503907,  0.0417758 ,  0.01997494]],\n",
       "\n",
       "       [[-0.04503907,  0.0417758 ,  0.01997494]],\n",
       "\n",
       "       [[-0.04503907,  0.0417758 ,  0.01997494]],\n",
       "\n",
       "       ...,\n",
       "\n",
       "       [[-0.03446241,  0.01993293,  0.01982058]],\n",
       "\n",
       "       [[-0.03446241,  0.01993293,  0.01982058]],\n",
       "\n",
       "       [[ 0.00429112,  0.00109095,  0.01435422]]], dtype=float32)"
      ]
     },
     "execution_count": 4,
     "metadata": {},
     "output_type": "execute_result"
    }
   ],
   "source": [
    "import spacy\n",
    "import numpy as np\n",
    "import pandas as pd\n",
    "import tensorflow as tf\n",
    "from sklearn.model_selection import train_test_split\n",
    "from tqdm import tqdm, tqdm_pandas\n",
    "\n",
    "tqdm_pandas(tqdm())\n",
    "\n",
    "nlp = spacy.load('en_core_web_md')\n",
    "tag_embeddings = np.load('data/tag_embeddings.npy')\n",
    "artist_embeddings = np.load('data/artist_embeddings.npy')\n",
    "\n",
    "tag_embeddings"
   ]
  },
  {
   "cell_type": "code",
   "execution_count": 8,
   "metadata": {},
   "outputs": [
    {
     "data": {
      "text/plain": [
       "(3374198, 1, 600)"
      ]
     },
     "execution_count": 8,
     "metadata": {},
     "output_type": "execute_result"
    }
   ],
   "source": [
    "artist_embeddings.shape"
   ]
  },
  {
   "cell_type": "code",
   "execution_count": 6,
   "metadata": {},
   "outputs": [
    {
     "ename": "IndexError",
     "evalue": "too many indices for array: array is 2-dimensional, but 3 were indexed",
     "output_type": "error",
     "traceback": [
      "\u001b[0;31m---------------------------------------------------------------------------\u001b[0m",
      "\u001b[0;31mIndexError\u001b[0m                                Traceback (most recent call last)",
      "Cell \u001b[0;32mIn[6], line 1\u001b[0m\n\u001b[0;32m----> 1\u001b[0m tag_embeddings \u001b[38;5;241m=\u001b[39m \u001b[43mtag_embeddings\u001b[49m\u001b[43m[\u001b[49m\u001b[43m:\u001b[49m\u001b[43m,\u001b[49m\u001b[43m \u001b[49m\u001b[38;5;241;43m0\u001b[39;49m\u001b[43m,\u001b[49m\u001b[43m \u001b[49m\u001b[43m:\u001b[49m\u001b[43m]\u001b[49m\n\u001b[1;32m      2\u001b[0m tag_embeddings \u001b[38;5;241m=\u001b[39m tag_embeddings[:slice_num]\n\u001b[1;32m      3\u001b[0m tag_embeddings\n",
      "\u001b[0;31mIndexError\u001b[0m: too many indices for array: array is 2-dimensional, but 3 were indexed"
     ]
    }
   ],
   "source": [
    "tag_embeddings = tag_embeddings[:, 0, :]\n",
    "tag_embeddings = tag_embeddings[:slice_num]\n",
    "tag_embeddings"
   ]
  },
  {
   "cell_type": "code",
   "execution_count": 9,
   "metadata": {},
   "outputs": [
    {
     "data": {
      "text/plain": [
       "array([[-0.03651663, -0.04300829, -0.00096111, ...,  0.04577483,\n",
       "         0.03669837, -0.01590056],\n",
       "       [ 0.00797558,  0.01449763,  0.02677281, ...,  0.01654521,\n",
       "         0.02038094,  0.02224332],\n",
       "       [ 0.02283705,  0.04656899, -0.03825787, ...,  0.01336754,\n",
       "        -0.03642181, -0.01813016],\n",
       "       ...,\n",
       "       [ 0.00858756, -0.04817573,  0.0425526 , ..., -0.02735157,\n",
       "         0.03027593,  0.00185962],\n",
       "       [ 0.00858756, -0.04817573,  0.0425526 , ..., -0.02735157,\n",
       "         0.03027593,  0.00185962],\n",
       "       [ 0.00858756, -0.04817573,  0.0425526 , ..., -0.02735157,\n",
       "         0.03027593,  0.00185962]], dtype=float32)"
      ]
     },
     "execution_count": 9,
     "metadata": {},
     "output_type": "execute_result"
    }
   ],
   "source": [
    "artist_embeddings = artist_embeddings[:, 0, :]\n",
    "artist_embeddings = artist_embeddings[:slice_num]\n",
    "artist_embeddings"
   ]
  },
  {
   "cell_type": "code",
   "execution_count": 10,
   "metadata": {},
   "outputs": [
    {
     "data": {
      "text/plain": [
       "(10000, 600)"
      ]
     },
     "execution_count": 10,
     "metadata": {},
     "output_type": "execute_result"
    }
   ],
   "source": [
    "artist_embeddings.shape"
   ]
  },
  {
   "cell_type": "code",
   "execution_count": 11,
   "metadata": {},
   "outputs": [
    {
     "name": "stderr",
     "output_type": "stream",
     "text": [
      "10000it [49:42,  3.35it/s]\n"
     ]
    }
   ],
   "source": [
    "def get_word_vector(text):\n",
    "    doc = nlp(text)\n",
    "    return np.mean([token.vector for token in doc if token.has_vector], axis=0)\n",
    "\n",
    "def transform_y(label):\n",
    "    if label == 'Very Low':\n",
    "        return 0\n",
    "    if label == 'Low':\n",
    "        return 1\n",
    "    if label == 'Medium':\n",
    "        return 2\n",
    "    if label == 'High':\n",
    "        return 3\n",
    "    if label == 'Very High':\n",
    "        return 4\n",
    "\n",
    "def f1_score(y_true, y_pred):\n",
    "    precision = tf.keras.metrics.Precision()(y_true, y_pred)\n",
    "    recall = tf.keras.metrics.Recall()(y_true, y_pred)\n",
    "    return 2 * (precision * recall) / (precision + recall + tf.keras.backend.epsilon())\n",
    "\n",
    "\n",
    "\n",
    "df['vector'] = df['song_document'].progress_apply(get_word_vector)\n",
    "\n",
    "X = np.vstack(df['vector'].values)  \n",
    "\n"
   ]
  },
  {
   "cell_type": "code",
   "execution_count": 12,
   "metadata": {},
   "outputs": [],
   "source": [
    "np.save('data/song_document_w2v.npy', X)"
   ]
  },
  {
   "cell_type": "code",
   "execution_count": 13,
   "metadata": {},
   "outputs": [
    {
     "ename": "KeyError",
     "evalue": "'label'",
     "output_type": "error",
     "traceback": [
      "\u001b[0;31m---------------------------------------------------------------------------\u001b[0m",
      "\u001b[0;31mKeyError\u001b[0m                                  Traceback (most recent call last)",
      "File \u001b[0;32m/opt/anaconda3/envs/tm_project/lib/python3.8/site-packages/pandas/core/indexes/base.py:3361\u001b[0m, in \u001b[0;36mIndex.get_loc\u001b[0;34m(self, key, method, tolerance)\u001b[0m\n\u001b[1;32m   3360\u001b[0m \u001b[38;5;28;01mtry\u001b[39;00m:\n\u001b[0;32m-> 3361\u001b[0m     \u001b[38;5;28;01mreturn\u001b[39;00m \u001b[38;5;28;43mself\u001b[39;49m\u001b[38;5;241;43m.\u001b[39;49m\u001b[43m_engine\u001b[49m\u001b[38;5;241;43m.\u001b[39;49m\u001b[43mget_loc\u001b[49m\u001b[43m(\u001b[49m\u001b[43mcasted_key\u001b[49m\u001b[43m)\u001b[49m\n\u001b[1;32m   3362\u001b[0m \u001b[38;5;28;01mexcept\u001b[39;00m \u001b[38;5;167;01mKeyError\u001b[39;00m \u001b[38;5;28;01mas\u001b[39;00m err:\n",
      "File \u001b[0;32m/opt/anaconda3/envs/tm_project/lib/python3.8/site-packages/pandas/_libs/index.pyx:76\u001b[0m, in \u001b[0;36mpandas._libs.index.IndexEngine.get_loc\u001b[0;34m()\u001b[0m\n",
      "File \u001b[0;32m/opt/anaconda3/envs/tm_project/lib/python3.8/site-packages/pandas/_libs/index.pyx:108\u001b[0m, in \u001b[0;36mpandas._libs.index.IndexEngine.get_loc\u001b[0;34m()\u001b[0m\n",
      "File \u001b[0;32mpandas/_libs/hashtable_class_helper.pxi:5198\u001b[0m, in \u001b[0;36mpandas._libs.hashtable.PyObjectHashTable.get_item\u001b[0;34m()\u001b[0m\n",
      "File \u001b[0;32mpandas/_libs/hashtable_class_helper.pxi:5206\u001b[0m, in \u001b[0;36mpandas._libs.hashtable.PyObjectHashTable.get_item\u001b[0;34m()\u001b[0m\n",
      "\u001b[0;31mKeyError\u001b[0m: 'label'",
      "\nThe above exception was the direct cause of the following exception:\n",
      "\u001b[0;31mKeyError\u001b[0m                                  Traceback (most recent call last)",
      "Cell \u001b[0;32mIn[13], line 2\u001b[0m\n\u001b[1;32m      1\u001b[0m X \u001b[38;5;241m=\u001b[39m np\u001b[38;5;241m.\u001b[39mhstack([X, tag_embeddings, artist_embeddings])\n\u001b[0;32m----> 2\u001b[0m y \u001b[38;5;241m=\u001b[39m \u001b[43mdf\u001b[49m\u001b[43m[\u001b[49m\u001b[38;5;124;43m'\u001b[39;49m\u001b[38;5;124;43mlabel\u001b[39;49m\u001b[38;5;124;43m'\u001b[39;49m\u001b[43m]\u001b[49m\u001b[38;5;241m.\u001b[39mapply(transform_y)\u001b[38;5;241m.\u001b[39mvalues\n",
      "File \u001b[0;32m/opt/anaconda3/envs/tm_project/lib/python3.8/site-packages/pandas/core/frame.py:3455\u001b[0m, in \u001b[0;36mDataFrame.__getitem__\u001b[0;34m(self, key)\u001b[0m\n\u001b[1;32m   3453\u001b[0m \u001b[38;5;28;01mif\u001b[39;00m \u001b[38;5;28mself\u001b[39m\u001b[38;5;241m.\u001b[39mcolumns\u001b[38;5;241m.\u001b[39mnlevels \u001b[38;5;241m>\u001b[39m \u001b[38;5;241m1\u001b[39m:\n\u001b[1;32m   3454\u001b[0m     \u001b[38;5;28;01mreturn\u001b[39;00m \u001b[38;5;28mself\u001b[39m\u001b[38;5;241m.\u001b[39m_getitem_multilevel(key)\n\u001b[0;32m-> 3455\u001b[0m indexer \u001b[38;5;241m=\u001b[39m \u001b[38;5;28;43mself\u001b[39;49m\u001b[38;5;241;43m.\u001b[39;49m\u001b[43mcolumns\u001b[49m\u001b[38;5;241;43m.\u001b[39;49m\u001b[43mget_loc\u001b[49m\u001b[43m(\u001b[49m\u001b[43mkey\u001b[49m\u001b[43m)\u001b[49m\n\u001b[1;32m   3456\u001b[0m \u001b[38;5;28;01mif\u001b[39;00m is_integer(indexer):\n\u001b[1;32m   3457\u001b[0m     indexer \u001b[38;5;241m=\u001b[39m [indexer]\n",
      "File \u001b[0;32m/opt/anaconda3/envs/tm_project/lib/python3.8/site-packages/pandas/core/indexes/base.py:3363\u001b[0m, in \u001b[0;36mIndex.get_loc\u001b[0;34m(self, key, method, tolerance)\u001b[0m\n\u001b[1;32m   3361\u001b[0m         \u001b[38;5;28;01mreturn\u001b[39;00m \u001b[38;5;28mself\u001b[39m\u001b[38;5;241m.\u001b[39m_engine\u001b[38;5;241m.\u001b[39mget_loc(casted_key)\n\u001b[1;32m   3362\u001b[0m     \u001b[38;5;28;01mexcept\u001b[39;00m \u001b[38;5;167;01mKeyError\u001b[39;00m \u001b[38;5;28;01mas\u001b[39;00m err:\n\u001b[0;32m-> 3363\u001b[0m         \u001b[38;5;28;01mraise\u001b[39;00m \u001b[38;5;167;01mKeyError\u001b[39;00m(key) \u001b[38;5;28;01mfrom\u001b[39;00m \u001b[38;5;21;01merr\u001b[39;00m\n\u001b[1;32m   3365\u001b[0m \u001b[38;5;28;01mif\u001b[39;00m is_scalar(key) \u001b[38;5;129;01mand\u001b[39;00m isna(key) \u001b[38;5;129;01mand\u001b[39;00m \u001b[38;5;129;01mnot\u001b[39;00m \u001b[38;5;28mself\u001b[39m\u001b[38;5;241m.\u001b[39mhasnans:\n\u001b[1;32m   3366\u001b[0m     \u001b[38;5;28;01mraise\u001b[39;00m \u001b[38;5;167;01mKeyError\u001b[39;00m(key)\n",
      "\u001b[0;31mKeyError\u001b[0m: 'label'"
     ]
    }
   ],
   "source": [
    "X = np.hstack([X, tag_embeddings, artist_embeddings])\n"
   ]
  },
  {
   "cell_type": "code",
   "execution_count": 16,
   "metadata": {},
   "outputs": [],
   "source": [
    "y = df['popularity_bin'].apply(transform_y).values"
   ]
  },
  {
   "cell_type": "code",
   "execution_count": 18,
   "metadata": {},
   "outputs": [
    {
     "data": {
      "text/plain": [
       "(10000, 903)"
      ]
     },
     "execution_count": 18,
     "metadata": {},
     "output_type": "execute_result"
    }
   ],
   "source": [
    "X.shape"
   ]
  },
  {
   "cell_type": "code",
   "execution_count": 19,
   "metadata": {},
   "outputs": [
    {
     "data": {
      "text/plain": [
       "(10000,)"
      ]
     },
     "execution_count": 19,
     "metadata": {},
     "output_type": "execute_result"
    }
   ],
   "source": [
    "y.shape"
   ]
  },
  {
   "cell_type": "code",
   "execution_count": 34,
   "metadata": {},
   "outputs": [
    {
     "data": {
      "text/plain": [
       "array([[0., 0., 1., 0., 0.],\n",
       "       [0., 0., 1., 0., 0.],\n",
       "       [1., 0., 0., 0., 0.],\n",
       "       ...,\n",
       "       [0., 1., 0., 0., 0.],\n",
       "       [1., 0., 0., 0., 0.],\n",
       "       [1., 0., 0., 0., 0.]], dtype=float32)"
      ]
     },
     "execution_count": 34,
     "metadata": {},
     "output_type": "execute_result"
    }
   ],
   "source": [
    "import numpy as np\n",
    "import tensorflow as tf\n",
    "from tensorflow.keras.models import Sequential\n",
    "from tensorflow.keras.layers import Dense\n",
    "from tensorflow.keras.utils import to_categorical\n",
    "\n",
    "# Assuming X and y are your input and output arrays\n",
    "# X.shape = (10000, 903), y.shape = (10000,)\n",
    "\n",
    "# Convert y to one-hot encoded format for multi-class classification\n",
    "y_one_hot = to_categorical(y, num_classes=5)\n",
    "y_one_hot"
   ]
  },
  {
   "cell_type": "code",
   "execution_count": 35,
   "metadata": {},
   "outputs": [],
   "source": [
    "X_train, X_test, y_train, y_test = train_test_split(X, y_one_hot, test_size=0.2, random_state=42)\n"
   ]
  },
  {
   "cell_type": "code",
   "execution_count": 32,
   "metadata": {},
   "outputs": [
    {
     "data": {
      "text/plain": [
       "(8000, 5)"
      ]
     },
     "execution_count": 32,
     "metadata": {},
     "output_type": "execute_result"
    }
   ],
   "source": [
    "y_train.shape"
   ]
  },
  {
   "cell_type": "code",
   "execution_count": 38,
   "metadata": {},
   "outputs": [],
   "source": [
    "from tensorflow.keras import backend as K\n",
    "\n",
    "def f1_score(y_true, y_pred):\n",
    "    y_pred_classes = K.argmax(y_pred, axis=-1)\n",
    "    y_true_classes = K.argmax(y_true, axis=-1)\n",
    "    \n",
    "    precision = tf.metrics.Precision()(y_true_classes, y_pred_classes)\n",
    "    recall = tf.metrics.Recall()(y_true_classes, y_pred_classes)\n",
    "    \n",
    "    f1 = 2 * ((precision * recall) / (precision + recall + K.epsilon()))\n",
    "    return f1"
   ]
  },
  {
   "cell_type": "code",
   "execution_count": 40,
   "metadata": {},
   "outputs": [
    {
     "name": "stdout",
     "output_type": "stream",
     "text": [
      "Epoch 1/20\n",
      "200/200 [==============================] - 0s 1ms/step - loss: 0.9968 - accuracy: 0.5880 - val_loss: 0.8789 - val_accuracy: 0.6425\n",
      "Epoch 2/20\n",
      "200/200 [==============================] - 0s 729us/step - loss: 0.8144 - accuracy: 0.6708 - val_loss: 0.8117 - val_accuracy: 0.6756\n",
      "Epoch 3/20\n",
      "200/200 [==============================] - 0s 725us/step - loss: 0.7605 - accuracy: 0.6919 - val_loss: 0.8483 - val_accuracy: 0.6450\n",
      "Epoch 4/20\n",
      "200/200 [==============================] - 0s 721us/step - loss: 0.7327 - accuracy: 0.7045 - val_loss: 0.7974 - val_accuracy: 0.6756\n",
      "Epoch 5/20\n",
      "200/200 [==============================] - 0s 715us/step - loss: 0.7038 - accuracy: 0.7133 - val_loss: 0.8245 - val_accuracy: 0.6694\n",
      "Epoch 6/20\n",
      "200/200 [==============================] - 0s 715us/step - loss: 0.6939 - accuracy: 0.7161 - val_loss: 0.8023 - val_accuracy: 0.6775\n",
      "Epoch 7/20\n",
      "200/200 [==============================] - 0s 708us/step - loss: 0.6703 - accuracy: 0.7284 - val_loss: 0.8011 - val_accuracy: 0.6806\n",
      "Epoch 8/20\n",
      "200/200 [==============================] - 0s 794us/step - loss: 0.6570 - accuracy: 0.7284 - val_loss: 0.7990 - val_accuracy: 0.6900\n",
      "Epoch 9/20\n",
      "200/200 [==============================] - 0s 725us/step - loss: 0.6358 - accuracy: 0.7387 - val_loss: 0.8039 - val_accuracy: 0.6888\n",
      "Epoch 10/20\n",
      "200/200 [==============================] - 0s 713us/step - loss: 0.6211 - accuracy: 0.7445 - val_loss: 0.8206 - val_accuracy: 0.6869\n",
      "Epoch 11/20\n",
      "200/200 [==============================] - 0s 713us/step - loss: 0.6037 - accuracy: 0.7516 - val_loss: 0.8354 - val_accuracy: 0.6869\n",
      "Epoch 12/20\n",
      "200/200 [==============================] - 0s 753us/step - loss: 0.5906 - accuracy: 0.7530 - val_loss: 0.8377 - val_accuracy: 0.6888\n",
      "Epoch 13/20\n",
      "200/200 [==============================] - 0s 737us/step - loss: 0.5679 - accuracy: 0.7659 - val_loss: 0.8663 - val_accuracy: 0.6844\n",
      "Epoch 14/20\n",
      "200/200 [==============================] - 0s 748us/step - loss: 0.5537 - accuracy: 0.7716 - val_loss: 0.8697 - val_accuracy: 0.6781\n",
      "Epoch 15/20\n",
      "200/200 [==============================] - 0s 749us/step - loss: 0.5331 - accuracy: 0.7808 - val_loss: 0.9034 - val_accuracy: 0.6481\n",
      "Epoch 16/20\n",
      "200/200 [==============================] - 0s 746us/step - loss: 0.5216 - accuracy: 0.7881 - val_loss: 0.8969 - val_accuracy: 0.6756\n",
      "Epoch 17/20\n",
      "200/200 [==============================] - 0s 792us/step - loss: 0.5077 - accuracy: 0.7917 - val_loss: 0.9140 - val_accuracy: 0.6831\n",
      "Epoch 18/20\n",
      "200/200 [==============================] - 0s 722us/step - loss: 0.4847 - accuracy: 0.8009 - val_loss: 0.9907 - val_accuracy: 0.6513\n",
      "Epoch 19/20\n",
      "200/200 [==============================] - 0s 711us/step - loss: 0.4770 - accuracy: 0.8070 - val_loss: 0.9707 - val_accuracy: 0.6781\n",
      "Epoch 20/20\n",
      "200/200 [==============================] - 0s 720us/step - loss: 0.4488 - accuracy: 0.8205 - val_loss: 1.0295 - val_accuracy: 0.6725\n",
      "63/63 [==============================] - 0s 405us/step - loss: 1.0290 - accuracy: 0.6565\n",
      "Test Accuracy: 0.66\n"
     ]
    }
   ],
   "source": [
    "model1 = Sequential()\n",
    "\n",
    "# Input layer and first hidden layer (Dense)\n",
    "model1.add(Dense(128, input_dim=903, activation='relu'))  # Input dim matches the number of features in X\n",
    "\n",
    "# Add additional hidden layers as needed\n",
    "model1.add(Dense(64, activation='relu'))\n",
    "\n",
    "# Output layer (for 5 classes)\n",
    "model1.add(Dense(5, activation='softmax'))  # Softmax for multi-class classification\n",
    "\n",
    "\n",
    "model1.compile(optimizer='adam', loss='categorical_crossentropy', metrics=['accuracy'])\n",
    "\n",
    "model1.fit(X_train, y_train, epochs=20, batch_size=32, validation_split=0.2)\n",
    "\n",
    "loss, accuracy = model1.evaluate(X_test, y_test)\n",
    "print(f\"Test Accuracy: {accuracy:.2f}\")\n"
   ]
  },
  {
   "cell_type": "code",
   "execution_count": 41,
   "metadata": {},
   "outputs": [
    {
     "name": "stdout",
     "output_type": "stream",
     "text": [
      "63/63 [==============================] - 0s 369us/step\n",
      "Test F1 Score: 0.63\n"
     ]
    }
   ],
   "source": [
    "from sklearn.metrics import f1_score\n",
    "import numpy as np\n",
    "\n",
    "# Get predictions from the model (these will be probabilities)\n",
    "y_pred_prob = model1.predict(X_test)\n",
    "\n",
    "# Convert probabilities to class predictions (e.g., the index of the max value)\n",
    "y_pred = np.argmax(y_pred_prob, axis=1)\n",
    "\n",
    "# If y_test is one-hot encoded, convert it back to class labels\n",
    "y_test_class = np.argmax(y_test, axis=1)\n",
    "\n",
    "# Calculate the F1 score using sklearn\n",
    "f1 = f1_score(y_test_class, y_pred, average='weighted')\n",
    "\n",
    "# Print the F1 score\n",
    "print(f\"Test F1 Score: {f1:.2f}\")\n"
   ]
  }
 ],
 "metadata": {
  "kernelspec": {
   "display_name": "tm_project",
   "language": "python",
   "name": "python3"
  },
  "language_info": {
   "codemirror_mode": {
    "name": "ipython",
    "version": 3
   },
   "file_extension": ".py",
   "mimetype": "text/x-python",
   "name": "python",
   "nbconvert_exporter": "python",
   "pygments_lexer": "ipython3",
   "version": "3.8.18"
  }
 },
 "nbformat": 4,
 "nbformat_minor": 2
}
