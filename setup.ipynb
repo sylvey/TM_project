{
 "cells": [
  {
   "cell_type": "code",
   "execution_count": null,
   "metadata": {},
   "outputs": [],
   "source": [
    "import pandas as pd"
   ]
  },
  {
   "cell_type": "code",
   "execution_count": null,
   "metadata": {},
   "outputs": [
    {
     "data": {
      "text/html": [
       "<div>\n",
       "<style scoped>\n",
       "    .dataframe tbody tr th:only-of-type {\n",
       "        vertical-align: middle;\n",
       "    }\n",
       "\n",
       "    .dataframe tbody tr th {\n",
       "        vertical-align: top;\n",
       "    }\n",
       "\n",
       "    .dataframe thead th {\n",
       "        text-align: right;\n",
       "    }\n",
       "</style>\n",
       "<table border=\"1\" class=\"dataframe\">\n",
       "  <thead>\n",
       "    <tr style=\"text-align: right;\">\n",
       "      <th></th>\n",
       "      <th>title</th>\n",
       "      <th>tag</th>\n",
       "      <th>artist</th>\n",
       "      <th>year</th>\n",
       "      <th>views</th>\n",
       "      <th>features</th>\n",
       "      <th>lyrics</th>\n",
       "      <th>id</th>\n",
       "      <th>language_cld3</th>\n",
       "      <th>language_ft</th>\n",
       "      <th>language</th>\n",
       "    </tr>\n",
       "  </thead>\n",
       "  <tbody>\n",
       "    <tr>\n",
       "      <th>0</th>\n",
       "      <td>Killa Cam</td>\n",
       "      <td>rap</td>\n",
       "      <td>Cam'ron</td>\n",
       "      <td>2004</td>\n",
       "      <td>173166</td>\n",
       "      <td>{\"Cam\\\\'ron\",\"Opera Steve\"}</td>\n",
       "      <td>[Chorus: Opera Steve &amp; Cam'ron]\\nKilla Cam, Ki...</td>\n",
       "      <td>1</td>\n",
       "      <td>en</td>\n",
       "      <td>en</td>\n",
       "      <td>en</td>\n",
       "    </tr>\n",
       "    <tr>\n",
       "      <th>1</th>\n",
       "      <td>Can I Live</td>\n",
       "      <td>rap</td>\n",
       "      <td>JAY-Z</td>\n",
       "      <td>1996</td>\n",
       "      <td>468624</td>\n",
       "      <td>{}</td>\n",
       "      <td>[Produced by Irv Gotti]\\n\\n[Intro]\\nYeah, hah,...</td>\n",
       "      <td>3</td>\n",
       "      <td>en</td>\n",
       "      <td>en</td>\n",
       "      <td>en</td>\n",
       "    </tr>\n",
       "    <tr>\n",
       "      <th>2</th>\n",
       "      <td>Forgive Me Father</td>\n",
       "      <td>rap</td>\n",
       "      <td>Fabolous</td>\n",
       "      <td>2003</td>\n",
       "      <td>4743</td>\n",
       "      <td>{}</td>\n",
       "      <td>Maybe cause I'm eatin\\nAnd these bastards fien...</td>\n",
       "      <td>4</td>\n",
       "      <td>en</td>\n",
       "      <td>en</td>\n",
       "      <td>en</td>\n",
       "    </tr>\n",
       "    <tr>\n",
       "      <th>3</th>\n",
       "      <td>Down and Out</td>\n",
       "      <td>rap</td>\n",
       "      <td>Cam'ron</td>\n",
       "      <td>2004</td>\n",
       "      <td>144404</td>\n",
       "      <td>{\"Cam\\\\'ron\",\"Kanye West\",\"Syleena Johnson\"}</td>\n",
       "      <td>[Produced by Kanye West and Brian Miller]\\n\\n[...</td>\n",
       "      <td>5</td>\n",
       "      <td>en</td>\n",
       "      <td>en</td>\n",
       "      <td>en</td>\n",
       "    </tr>\n",
       "    <tr>\n",
       "      <th>4</th>\n",
       "      <td>Fly In</td>\n",
       "      <td>rap</td>\n",
       "      <td>Lil Wayne</td>\n",
       "      <td>2005</td>\n",
       "      <td>78271</td>\n",
       "      <td>{}</td>\n",
       "      <td>[Intro]\\nSo they ask me\\n\"Young boy\\nWhat you ...</td>\n",
       "      <td>6</td>\n",
       "      <td>en</td>\n",
       "      <td>en</td>\n",
       "      <td>en</td>\n",
       "    </tr>\n",
       "  </tbody>\n",
       "</table>\n",
       "</div>"
      ],
      "text/plain": [
       "               title  tag     artist  year   views  \\\n",
       "0          Killa Cam  rap    Cam'ron  2004  173166   \n",
       "1         Can I Live  rap      JAY-Z  1996  468624   \n",
       "2  Forgive Me Father  rap   Fabolous  2003    4743   \n",
       "3       Down and Out  rap    Cam'ron  2004  144404   \n",
       "4             Fly In  rap  Lil Wayne  2005   78271   \n",
       "\n",
       "                                       features  \\\n",
       "0                   {\"Cam\\\\'ron\",\"Opera Steve\"}   \n",
       "1                                            {}   \n",
       "2                                            {}   \n",
       "3  {\"Cam\\\\'ron\",\"Kanye West\",\"Syleena Johnson\"}   \n",
       "4                                            {}   \n",
       "\n",
       "                                              lyrics  id language_cld3  \\\n",
       "0  [Chorus: Opera Steve & Cam'ron]\\nKilla Cam, Ki...   1            en   \n",
       "1  [Produced by Irv Gotti]\\n\\n[Intro]\\nYeah, hah,...   3            en   \n",
       "2  Maybe cause I'm eatin\\nAnd these bastards fien...   4            en   \n",
       "3  [Produced by Kanye West and Brian Miller]\\n\\n[...   5            en   \n",
       "4  [Intro]\\nSo they ask me\\n\"Young boy\\nWhat you ...   6            en   \n",
       "\n",
       "  language_ft language  \n",
       "0          en       en  \n",
       "1          en       en  \n",
       "2          en       en  \n",
       "3          en       en  \n",
       "4          en       en  "
      ]
     },
     "metadata": {},
     "output_type": "display_data"
    }
   ],
   "source": [
    "df = pd.read_csv('data/song_lyrics.csv')\n",
    "df.head()"
   ]
  },
  {
   "cell_type": "code",
   "execution_count": null,
   "metadata": {},
   "outputs": [
    {
     "data": {
      "text/plain": [
       "56483416"
      ]
     },
     "metadata": {},
     "output_type": "display_data"
    }
   ],
   "source": [
    "df.size"
   ]
  },
  {
   "cell_type": "code",
   "execution_count": null,
   "metadata": {},
   "outputs": [
    {
     "data": {
      "text/plain": [
       "37116178"
      ]
     },
     "metadata": {},
     "output_type": "display_data"
    }
   ],
   "source": [
    "df = df[df['language'] == \"en\"]\n",
    "df.size"
   ]
  },
  {
   "cell_type": "code",
   "execution_count": null,
   "metadata": {},
   "outputs": [],
   "source": [
    "df.to_csv('data/song_lyrics_en.csv')"
   ]
  },
  {
   "cell_type": "code",
   "execution_count": 5,
   "metadata": {},
   "outputs": [
    {
     "name": "stdout",
     "output_type": "stream",
     "text": [
      "Requirement already satisfied: absl-py==2.1.0 in /opt/anaconda3/envs/tm_project/lib/python3.8/site-packages (from -r pip_requirements.txt (line 1)) (2.1.0)\n",
      "Requirement already satisfied: astunparse==1.6.3 in /opt/anaconda3/envs/tm_project/lib/python3.8/site-packages (from -r pip_requirements.txt (line 2)) (1.6.3)\n",
      "Requirement already satisfied: cachetools==5.5.0 in /opt/anaconda3/envs/tm_project/lib/python3.8/site-packages (from -r pip_requirements.txt (line 3)) (5.5.0)\n",
      "Requirement already satisfied: certifi==2024.8.30 in /opt/anaconda3/envs/tm_project/lib/python3.8/site-packages (from -r pip_requirements.txt (line 4)) (2024.8.30)\n",
      "Collecting charset-normalizer==3.4.0 (from -r pip_requirements.txt (line 5))\n",
      "  Downloading charset_normalizer-3.4.0-cp38-cp38-macosx_11_0_arm64.whl.metadata (34 kB)\n",
      "Collecting distlib==0.3.6 (from -r pip_requirements.txt (line 6))\n",
      "  Downloading distlib-0.3.6-py2.py3-none-any.whl.metadata (5.1 kB)\n",
      "Collecting filelock==3.8.0 (from -r pip_requirements.txt (line 7))\n",
      "  Downloading filelock-3.8.0-py3-none-any.whl.metadata (2.3 kB)\n",
      "Requirement already satisfied: flatbuffers==24.3.25 in /opt/anaconda3/envs/tm_project/lib/python3.8/site-packages (from -r pip_requirements.txt (line 8)) (24.3.25)\n",
      "Requirement already satisfied: gast==0.4.0 in /opt/anaconda3/envs/tm_project/lib/python3.8/site-packages (from -r pip_requirements.txt (line 9)) (0.4.0)\n",
      "Requirement already satisfied: google-auth==2.35.0 in /opt/anaconda3/envs/tm_project/lib/python3.8/site-packages (from -r pip_requirements.txt (line 10)) (2.35.0)\n",
      "Requirement already satisfied: google-auth-oauthlib==1.0.0 in /opt/anaconda3/envs/tm_project/lib/python3.8/site-packages (from -r pip_requirements.txt (line 11)) (1.0.0)\n",
      "Requirement already satisfied: google-pasta==0.2.0 in /opt/anaconda3/envs/tm_project/lib/python3.8/site-packages (from -r pip_requirements.txt (line 12)) (0.2.0)\n",
      "Requirement already satisfied: grpcio==1.66.2 in /opt/anaconda3/envs/tm_project/lib/python3.8/site-packages (from -r pip_requirements.txt (line 13)) (1.66.2)\n",
      "Requirement already satisfied: h5py==3.11.0 in /opt/anaconda3/envs/tm_project/lib/python3.8/site-packages (from -r pip_requirements.txt (line 14)) (3.11.0)\n",
      "Collecting idna==3.10 (from -r pip_requirements.txt (line 15))\n",
      "  Downloading idna-3.10-py3-none-any.whl.metadata (10 kB)\n",
      "Collecting importlib-metadata==8.5.0 (from -r pip_requirements.txt (line 16))\n",
      "  Downloading importlib_metadata-8.5.0-py3-none-any.whl.metadata (4.8 kB)\n",
      "Requirement already satisfied: keras==2.13.1 in /opt/anaconda3/envs/tm_project/lib/python3.8/site-packages (from -r pip_requirements.txt (line 17)) (2.13.1)\n",
      "Requirement already satisfied: libclang==18.1.1 in /opt/anaconda3/envs/tm_project/lib/python3.8/site-packages (from -r pip_requirements.txt (line 18)) (18.1.1)\n",
      "Requirement already satisfied: Markdown==3.7 in /opt/anaconda3/envs/tm_project/lib/python3.8/site-packages (from -r pip_requirements.txt (line 19)) (3.7)\n",
      "Collecting MarkupSafe==2.1.5 (from -r pip_requirements.txt (line 20))\n",
      "  Using cached MarkupSafe-2.1.5-cp38-cp38-macosx_10_9_universal2.whl.metadata (3.0 kB)\n",
      "Requirement already satisfied: numpy==1.24.3 in /opt/anaconda3/envs/tm_project/lib/python3.8/site-packages (from -r pip_requirements.txt (line 21)) (1.24.3)\n",
      "Requirement already satisfied: oauthlib==3.2.2 in /opt/anaconda3/envs/tm_project/lib/python3.8/site-packages (from -r pip_requirements.txt (line 22)) (3.2.2)\n",
      "Requirement already satisfied: opt-einsum==3.4.0 in /opt/anaconda3/envs/tm_project/lib/python3.8/site-packages (from -r pip_requirements.txt (line 23)) (3.4.0)\n",
      "Requirement already satisfied: packaging==24.1 in /opt/anaconda3/envs/tm_project/lib/python3.8/site-packages (from -r pip_requirements.txt (line 24)) (24.1)\n",
      "Collecting platformdirs==2.5.2 (from -r pip_requirements.txt (line 25))\n",
      "  Downloading platformdirs-2.5.2-py3-none-any.whl.metadata (9.4 kB)\n",
      "Requirement already satisfied: protobuf==4.25.5 in /opt/anaconda3/envs/tm_project/lib/python3.8/site-packages (from -r pip_requirements.txt (line 26)) (4.25.5)\n",
      "Requirement already satisfied: pyasn1==0.6.1 in /opt/anaconda3/envs/tm_project/lib/python3.8/site-packages (from -r pip_requirements.txt (line 27)) (0.6.1)\n",
      "Requirement already satisfied: pyasn1-modules==0.4.1 in /opt/anaconda3/envs/tm_project/lib/python3.8/site-packages (from -r pip_requirements.txt (line 28)) (0.4.1)\n",
      "Requirement already satisfied: requests==2.32.3 in /opt/anaconda3/envs/tm_project/lib/python3.8/site-packages (from -r pip_requirements.txt (line 29)) (2.32.3)\n",
      "Requirement already satisfied: requests-oauthlib==2.0.0 in /opt/anaconda3/envs/tm_project/lib/python3.8/site-packages (from -r pip_requirements.txt (line 30)) (2.0.0)\n",
      "Requirement already satisfied: rsa==4.9 in /opt/anaconda3/envs/tm_project/lib/python3.8/site-packages (from -r pip_requirements.txt (line 31)) (4.9)\n",
      "Requirement already satisfied: six==1.16.0 in /opt/anaconda3/envs/tm_project/lib/python3.8/site-packages (from -r pip_requirements.txt (line 32)) (1.16.0)\n",
      "Requirement already satisfied: tensorboard==2.13.0 in /opt/anaconda3/envs/tm_project/lib/python3.8/site-packages (from -r pip_requirements.txt (line 33)) (2.13.0)\n",
      "Requirement already satisfied: tensorboard-data-server==0.7.2 in /opt/anaconda3/envs/tm_project/lib/python3.8/site-packages (from -r pip_requirements.txt (line 34)) (0.7.2)\n",
      "Requirement already satisfied: tensorflow==2.13.0 in /opt/anaconda3/envs/tm_project/lib/python3.8/site-packages (from -r pip_requirements.txt (line 35)) (2.13.0)\n",
      "Requirement already satisfied: tensorflow-estimator==2.13.0 in /opt/anaconda3/envs/tm_project/lib/python3.8/site-packages (from -r pip_requirements.txt (line 36)) (2.13.0)\n",
      "Requirement already satisfied: tensorflow-macos==2.13.0 in /opt/anaconda3/envs/tm_project/lib/python3.8/site-packages (from -r pip_requirements.txt (line 37)) (2.13.0)\n",
      "Requirement already satisfied: termcolor==2.4.0 in /opt/anaconda3/envs/tm_project/lib/python3.8/site-packages (from -r pip_requirements.txt (line 38)) (2.4.0)\n",
      "Requirement already satisfied: typing-extensions==4.5.0 in /opt/anaconda3/envs/tm_project/lib/python3.8/site-packages (from -r pip_requirements.txt (line 39)) (4.5.0)\n",
      "Requirement already satisfied: urllib3==2.2.3 in /opt/anaconda3/envs/tm_project/lib/python3.8/site-packages (from -r pip_requirements.txt (line 40)) (2.2.3)\n",
      "Collecting virtualenv==20.16.5 (from -r pip_requirements.txt (line 41))\n",
      "  Downloading virtualenv-20.16.5-py3-none-any.whl.metadata (4.1 kB)\n",
      "Requirement already satisfied: werkzeug==3.0.4 in /opt/anaconda3/envs/tm_project/lib/python3.8/site-packages (from -r pip_requirements.txt (line 42)) (3.0.4)\n",
      "Requirement already satisfied: wrapt==1.16.0 in /opt/anaconda3/envs/tm_project/lib/python3.8/site-packages (from -r pip_requirements.txt (line 43)) (1.16.0)\n",
      "Collecting zipp==3.20.2 (from -r pip_requirements.txt (line 44))\n",
      "  Downloading zipp-3.20.2-py3-none-any.whl.metadata (3.7 kB)\n",
      "Requirement already satisfied: wheel<1.0,>=0.23.0 in /opt/anaconda3/envs/tm_project/lib/python3.8/site-packages (from astunparse==1.6.3->-r pip_requirements.txt (line 2)) (0.44.0)\n",
      "Requirement already satisfied: setuptools>=41.0.0 in /opt/anaconda3/envs/tm_project/lib/python3.8/site-packages (from tensorboard==2.13.0->-r pip_requirements.txt (line 33)) (75.1.0)\n",
      "Downloading charset_normalizer-3.4.0-cp38-cp38-macosx_11_0_arm64.whl (119 kB)\n",
      "Downloading distlib-0.3.6-py2.py3-none-any.whl (468 kB)\n",
      "Downloading filelock-3.8.0-py3-none-any.whl (10 kB)\n",
      "Downloading idna-3.10-py3-none-any.whl (70 kB)\n",
      "Downloading importlib_metadata-8.5.0-py3-none-any.whl (26 kB)\n",
      "Using cached MarkupSafe-2.1.5-cp38-cp38-macosx_10_9_universal2.whl (18 kB)\n",
      "Downloading platformdirs-2.5.2-py3-none-any.whl (14 kB)\n",
      "Downloading virtualenv-20.16.5-py3-none-any.whl (8.8 MB)\n",
      "\u001b[2K   \u001b[90m━━━━━━━━━━━━━━━━━━━━━━━━━━━━━━━━━━━━━━━━\u001b[0m \u001b[32m8.8/8.8 MB\u001b[0m \u001b[31m4.0 MB/s\u001b[0m eta \u001b[36m0:00:00\u001b[0ma \u001b[36m0:00:01\u001b[0m\n",
      "\u001b[?25hDownloading zipp-3.20.2-py3-none-any.whl (9.2 kB)\n",
      "Installing collected packages: distlib, zipp, platformdirs, MarkupSafe, idna, filelock, charset-normalizer, virtualenv, importlib-metadata\n",
      "  Attempting uninstall: zipp\n",
      "    Found existing installation: zipp 3.17.0\n",
      "    Uninstalling zipp-3.17.0:\n",
      "      Successfully uninstalled zipp-3.17.0\n",
      "  Attempting uninstall: platformdirs\n",
      "    Found existing installation: platformdirs 3.10.0\n",
      "    Uninstalling platformdirs-3.10.0:\n",
      "      Successfully uninstalled platformdirs-3.10.0\n",
      "  Attempting uninstall: MarkupSafe\n",
      "    Found existing installation: MarkupSafe 2.1.3\n",
      "    Uninstalling MarkupSafe-2.1.3:\n",
      "      Successfully uninstalled MarkupSafe-2.1.3\n",
      "  Attempting uninstall: idna\n",
      "    Found existing installation: idna 3.7\n",
      "    Uninstalling idna-3.7:\n",
      "      Successfully uninstalled idna-3.7\n",
      "  Attempting uninstall: charset-normalizer\n",
      "    Found existing installation: charset-normalizer 3.3.2\n",
      "    Uninstalling charset-normalizer-3.3.2:\n",
      "      Successfully uninstalled charset-normalizer-3.3.2\n",
      "  Attempting uninstall: importlib-metadata\n",
      "    Found existing installation: importlib-metadata 7.0.1\n",
      "    Uninstalling importlib-metadata-7.0.1:\n",
      "      Successfully uninstalled importlib-metadata-7.0.1\n",
      "Successfully installed MarkupSafe-2.1.5 charset-normalizer-3.4.0 distlib-0.3.6 filelock-3.8.0 idna-3.10 importlib-metadata-8.5.0 platformdirs-2.5.2 virtualenv-20.16.5 zipp-3.20.2\n"
     ]
    }
   ],
   "source": [
    "! pip install -r pip_requirements.txt"
   ]
  }
 ],
 "metadata": {
  "kernelspec": {
   "display_name": "tm_project",
   "language": "python",
   "name": "python3"
  },
  "language_info": {
   "codemirror_mode": {
    "name": "ipython",
    "version": 3
   },
   "file_extension": ".py",
   "mimetype": "text/x-python",
   "name": "python",
   "nbconvert_exporter": "python",
   "pygments_lexer": "ipython3",
   "version": "3.8.18"
  }
 },
 "nbformat": 4,
 "nbformat_minor": 2
}
