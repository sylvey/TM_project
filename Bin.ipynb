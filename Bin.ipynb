{
 "cells": [
  {
   "cell_type": "code",
   "execution_count": null,
   "id": "06d621a7-fa63-4443-bed4-92c4685196b8",
   "metadata": {},
   "outputs": [],
   "source": [
    "import pandas as pd\n",
    "\n",
    "# Load your dataset\n",
    "df = pd.read_csv(\"data/song_lyrics.csv\")\n",
    "\n",
    "# Define bin edges for the \"views\" column\n",
    "bins = [0, 10000, 100000, 500000, 1000000, df['views'].max()]\n",
    "labels = ['Very Low', 'Low', 'Medium', 'High', 'Very High']\n",
    "\n",
    "# Add a new column with the binned popularity\n",
    "df['popularity_bin'] = pd.cut(df['views'], bins=bins, labels=labels)\n",
    "\n",
    "# Display the result\n",
    "df[['views', 'popularity_bin']].head()"
   ]
  },
  {
   "cell_type": "code",
   "execution_count": null,
   "id": "6cef7b04-59f3-4d15-8d65-6f1735b25059",
   "metadata": {},
   "outputs": [],
   "source": [
    "import pandas as pd\n",
    "\n",
    "# Load the dataset\n",
    "file_path = 'data/song_lyrics.csv'\n",
    "df = pd.read_csv(file_path)\n",
    "\n",
    "# Define bin edges for the \"views\" column\n",
    "bins = [0, 10000, 100000, 500000, 1000000, df['views'].max()]\n",
    "labels = ['Very Low', 'Low', 'Medium', 'High', 'Very High']\n",
    "\n",
    "# Add a new column with the binned popularity\n",
    "df['popularity_bin'] = pd.cut(df['views'], bins=bins, labels=labels)\n",
    "\n",
    "# Display the result (showing the first few rows)\n",
    "print(df[['views', 'popularity_bin']].head())"
   ]
  },
  {
   "cell_type": "code",
   "execution_count": null,
   "id": "adc5c22a-48f4-4ebf-a68b-246d61428acf",
   "metadata": {},
   "outputs": [],
   "source": []
  }
 ],
 "metadata": {
  "kernelspec": {
   "display_name": "Python 3 (ipykernel)",
   "language": "python",
   "name": "python3"
  },
  "language_info": {
   "codemirror_mode": {
    "name": "ipython",
    "version": 3
   },
   "file_extension": ".py",
   "mimetype": "text/x-python",
   "name": "python",
   "nbconvert_exporter": "python",
   "pygments_lexer": "ipython3",
   "version": "3.8.19"
  }
 },
 "nbformat": 4,
 "nbformat_minor": 5
}
