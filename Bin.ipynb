{
 "cells": [
  {
   "cell_type": "code",
   "execution_count": null,
   "id": "06d621a7-fa63-4443-bed4-92c4685196b8",
   "metadata": {},
   "outputs": [],
   "source": [
    "import pandas as pd\n",
    "\n",
    "# Load your dataset\n",
    "df = pd.read_csv(\"data/song_lyrics_en.csv\")\n",
    "\n",
    "# Define bin edges for the \"views\" column\n",
    "bins = [0, 10000, 100000, 500000, 1000000, df['views'].max()]\n",
    "labels = ['Very Low', 'Low', 'Medium', 'High', 'Very High']\n",
    "\n",
    "# Add a new column with the binned popularity\n",
    "df['popularity_bin'] = pd.cut(df['views'], bins=bins, labels=labels)\n",
    "\n",
    "# Display the result\n",
    "df[['views', 'popularity_bin']].head()"
   ]
  }
