{
 "cells": [
  {
   "cell_type": "code",
   "execution_count": 2,
   "id": "06d621a7-fa63-4443-bed4-92c4685196b8",
   "metadata": {},
   "outputs": [
    {
     "data": {
      "text/html": [
       "<div>\n",
       "<style scoped>\n",
       "    .dataframe tbody tr th:only-of-type {\n",
       "        vertical-align: middle;\n",
       "    }\n",
       "\n",
       "    .dataframe tbody tr th {\n",
       "        vertical-align: top;\n",
       "    }\n",
       "\n",
       "    .dataframe thead th {\n",
       "        text-align: right;\n",
       "    }\n",
       "</style>\n",
       "<table border=\"1\" class=\"dataframe\">\n",
       "  <thead>\n",
       "    <tr style=\"text-align: right;\">\n",
       "      <th></th>\n",
       "      <th>views</th>\n",
       "      <th>popularity_bin</th>\n",
       "    </tr>\n",
       "  </thead>\n",
       "  <tbody>\n",
       "    <tr>\n",
       "      <th>0</th>\n",
       "      <td>173166</td>\n",
       "      <td>Medium</td>\n",
       "    </tr>\n",
       "    <tr>\n",
       "      <th>1</th>\n",
       "      <td>468624</td>\n",
       "      <td>Medium</td>\n",
       "    </tr>\n",
       "    <tr>\n",
       "      <th>2</th>\n",
       "      <td>4743</td>\n",
       "      <td>Very Low</td>\n",
       "    </tr>\n",
       "    <tr>\n",
       "      <th>3</th>\n",
       "      <td>144404</td>\n",
       "      <td>Medium</td>\n",
       "    </tr>\n",
       "    <tr>\n",
       "      <th>4</th>\n",
       "      <td>78271</td>\n",
       "      <td>Low</td>\n",
       "    </tr>\n",
       "  </tbody>\n",
       "</table>\n",
       "</div>"
      ],
      "text/plain": [
       "    views popularity_bin\n",
       "0  173166         Medium\n",
       "1  468624         Medium\n",
       "2    4743       Very Low\n",
       "3  144404         Medium\n",
       "4   78271            Low"
      ]
     },
     "execution_count": 2,
     "metadata": {},
     "output_type": "execute_result"
    }
   ],
   "source": [
    "import pandas as pd\n",
    "\n",
    "# Load your dataset\n",
    "df = pd.read_csv(\"data/song_lyrics_en.csv\")\n",
    "\n",
    "# Define bin edges for the \"views\" column\n",
    "bins = [0, 10000, 100000, 500000, 1000000, df['views'].max()]\n",
    "labels = ['Very Low', 'Low', 'Medium', 'High', 'Very High']\n",
    "\n",
    "# Add a new column with the binned popularity\n",
    "df['popularity_bin'] = pd.cut(df['views'], bins=bins, labels=labels)\n",
    "\n",
    "# Display the result\n",
    "df[['views', 'popularity_bin']].head()"
   ]
  },
  {
   "cell_type": "code",
   "execution_count": 6,
   "id": "6cef7b04-59f3-4d15-8d65-6f1735b25059",
   "metadata": {},
   "outputs": [
    {
     "name": "stdout",
     "output_type": "stream",
     "text": [
      "popularity_bin\n",
      "Very Low     3242237\n",
      "Low           108625\n",
      "Medium         15368\n",
      "High            2002\n",
      "Very High       1318\n",
      "Name: count, dtype: int64\n"
     ]
    }
   ],
   "source": [
    "bin_counts = df['popularity_bin'].value_counts()\n",
    "\n",
    "# Display the result\n",
    "print(bin_counts)"
   ]
  },
  {
   "cell_type": "code",
   "execution_count": 8,
   "id": "adc5c22a-48f4-4ebf-a68b-246d61428acf",
   "metadata": {},
   "outputs": [],
   "source": [
    "bin_counts.to_csv('song_lyrics_en.csv', header=True)"
   ]
  },
  {
   "cell_type": "code",
   "execution_count": null,
   "id": "c64ff4b2-f169-4f9d-a9f8-09ca5cee7f40",
   "metadata": {},
   "outputs": [],
   "source": []
  }
 ],
 "metadata": {
  "kernelspec": {
   "display_name": "Python 3 (ipykernel)",
   "language": "python",
   "name": "python3"
  },
  "language_info": {
   "codemirror_mode": {
    "name": "ipython",
    "version": 3
   },
   "file_extension": ".py",
   "mimetype": "text/x-python",
   "name": "python",
   "nbconvert_exporter": "python",
   "pygments_lexer": "ipython3",
   "version": "3.8.19"
  }
 },
 "nbformat": 4,
 "nbformat_minor": 5
}
