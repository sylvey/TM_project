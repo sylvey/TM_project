{
 "cells": [
  {
   "cell_type": "code",
   "execution_count": 1,
   "id": "f0206bee-14cd-4a4a-bbb3-19bec48332d6",
   "metadata": {},
   "outputs": [],
   "source": [
    "import pandas as pd\n",
    "from sklearn.feature_extraction.text import CountVectorizer, TfidfVectorizer\n",
    "from sklearn.model_selection import train_test_split\n",
    "from sklearn.svm import SVC\n",
    "from sklearn.metrics import accuracy_score, f1_score\n",
    "\n",
    "# Load the dataset (limiting to the first 10,000 rows if necessary)\n",
    "df = pd.read_csv(\"data/song_lyrics_en.csv\")\n"
   ]
  },
  {
   "cell_type": "code",
   "execution_count": 2,
   "id": "e0046bd1",
   "metadata": {},
   "outputs": [],
   "source": [
    "\n",
    "# Use 'song_document' as features and 'popularity_bin' as the target\n",
    "X = df['song_document']\n",
    "y = df['popularity_bin']\n",
    "\n",
    "# Split the data into training and testing sets\n",
    "X_train, X_test, y_train, y_test = train_test_split(X, y, test_size=0.1, random_state=42)\n"
   ]
  },
  {
   "cell_type": "code",
   "execution_count": 3,
   "id": "fd7e2ea1",
   "metadata": {},
   "outputs": [],
   "source": [
    "slice_num = 10000"
   ]
  },
  {
   "cell_type": "code",
   "execution_count": 4,
   "id": "a9de7357",
   "metadata": {},
   "outputs": [],
   "source": [
    "import numpy as np\n",
    "tag_embeddings = np.load('data/tag_embeddings.npy')\n",
    "artist_embeddings = np.load('data/artist_embeddings.npy')"
   ]
  },
  {
   "cell_type": "code",
   "execution_count": 5,
   "id": "1fc23439",
   "metadata": {},
   "outputs": [
    {
     "data": {
      "text/plain": [
       "(10000, 3)"
      ]
     },
     "execution_count": 5,
     "metadata": {},
     "output_type": "execute_result"
    }
   ],
   "source": [
    "tag_embeddings = tag_embeddings[:, 0, :]\n",
    "tag_embeddings = tag_embeddings[:slice_num]\n",
    "tag_embeddings.shape"
   ]
  },
  {
   "cell_type": "code",
   "execution_count": 6,
   "id": "6e7cddcd",
   "metadata": {},
   "outputs": [
    {
     "data": {
      "text/plain": [
       "(10000, 600)"
      ]
     },
     "execution_count": 6,
     "metadata": {},
     "output_type": "execute_result"
    }
   ],
   "source": [
    "artist_embeddings = artist_embeddings[:, 0, :]\n",
    "artist_embeddings = artist_embeddings[:slice_num]\n",
    "artist_embeddings.shape"
   ]
  },
  {
   "cell_type": "code",
   "execution_count": 7,
   "id": "56fe11b5",
   "metadata": {},
   "outputs": [],
   "source": [
    "artist_embedding_train, artist_embedding_test = train_test_split(artist_embeddings, test_size=0.1, random_state=42)\n",
    "tag_embedding_train, tag_embedding_test = train_test_split(tag_embeddings, test_size=0.1, random_state=42)"
   ]
  },
  {
   "cell_type": "code",
   "execution_count": 10,
   "id": "332b9354",
   "metadata": {},
   "outputs": [
    {
     "data": {
      "text/plain": [
       "(9000, 3)"
      ]
     },
     "execution_count": 10,
     "metadata": {},
     "output_type": "execute_result"
    }
   ],
   "source": [
    "tag_embedding_train.shape"
   ]
  },
  {
   "cell_type": "code",
   "execution_count": 13,
   "id": "8db4591b",
   "metadata": {},
   "outputs": [
    {
     "data": {
      "text/plain": [
       "(9000, 600)"
      ]
     },
     "execution_count": 13,
     "metadata": {},
     "output_type": "execute_result"
    }
   ],
   "source": [
    "artist_embedding_train.shape"
   ]
  },
  {
   "cell_type": "code",
   "execution_count": 8,
   "id": "52180ac6",
   "metadata": {},
   "outputs": [],
   "source": [
    "\n",
    "# Text Encoding: Bag of Words\n",
    "bow_vectorizer = CountVectorizer()\n",
    "X_train_bow = bow_vectorizer.fit_transform(X_train)\n",
    "X_test_bow = bow_vectorizer.transform(X_test)\n",
    "\n",
    "# Text Encoding: TF-IDF\n",
    "tfidf_vectorizer = TfidfVectorizer()\n",
    "X_train_tfidf = tfidf_vectorizer.fit_transform(X_train)\n",
    "X_test_tfidf = tfidf_vectorizer.transform(X_test)\n"
   ]
  },
  {
   "cell_type": "code",
   "execution_count": 11,
   "id": "ed2ceb92",
   "metadata": {},
   "outputs": [
    {
     "data": {
      "text/plain": [
       "(9000, 67866)"
      ]
     },
     "execution_count": 11,
     "metadata": {},
     "output_type": "execute_result"
    }
   ],
   "source": [
    "X_train_tfidf.shape"
   ]
  },
  {
   "cell_type": "code",
   "execution_count": 14,
   "id": "f01e1ee8",
   "metadata": {},
   "outputs": [],
   "source": [
    "from scipy.sparse import hstack\n",
    "# Concatenate Bag of Words (BoW) with the embeddings\n",
    "X_train_bow_concat = hstack([X_train_bow, tag_embedding_train, artist_embedding_train])\n",
    "X_test_bow_concat = hstack([X_test_bow, tag_embedding_test, artist_embedding_test])\n",
    "\n",
    "# Concatenate TF-IDF with the embeddings\n",
    "X_train_tfidf_concat = hstack([X_train_tfidf, tag_embedding_train, artist_embedding_train])\n",
    "X_test_tfidf_concat = hstack([X_test_tfidf, tag_embedding_test, artist_embedding_test])\n"
   ]
  },
  {
   "cell_type": "code",
   "execution_count": 15,
   "id": "93934fa8",
   "metadata": {},
   "outputs": [
    {
     "name": "stdout",
     "output_type": "stream",
     "text": [
      "Bag of Words - Accuracy: 0.5970, F1-score: 0.5167\n",
      "TF-IDF - Accuracy: 0.6700, F1-score: 0.6391\n"
     ]
    }
   ],
   "source": [
    "\n",
    "# Model Training: SVC for Bag of Words\n",
    "svc_bow = SVC()\n",
    "svc_bow.fit(X_train_bow_concat, y_train)\n",
    "y_pred_bow = svc_bow.predict(X_test_bow_concat)\n",
    "\n",
    "# Model Training: SVC for TF-IDF\n",
    "svc_tfidf = SVC()\n",
    "svc_tfidf.fit(X_train_tfidf_concat, y_train)\n",
    "y_pred_tfidf = svc_tfidf.predict(X_test_tfidf_concat)\n",
    "\n",
    "# Evaluation: Accuracy and F1-score for Bag of Words\n",
    "accuracy_bow = accuracy_score(y_test, y_pred_bow)\n",
    "f1_bow = f1_score(y_test, y_pred_bow, average='weighted')\n",
    "\n",
    "# Evaluation: Accuracy and F1-score for TF-IDF\n",
    "accuracy_tfidf = accuracy_score(y_test, y_pred_tfidf)\n",
    "f1_tfidf = f1_score(y_test, y_pred_tfidf, average='weighted')\n",
    "\n",
    "# Display the results\n",
    "print(f\"Bag of Words - Accuracy: {accuracy_bow:.4f}, F1-score: {f1_bow:.4f}\")\n",
    "print(f\"TF-IDF - Accuracy: {accuracy_tfidf:.4f}, F1-score: {f1_tfidf:.4f}\")\n"
   ]
  },
  {
   "cell_type": "code",
   "execution_count": null,
   "id": "70ded954-8603-4e41-9015-03334d7c7347",
   "metadata": {},
   "outputs": [],
   "source": []
  }
 ],
 "metadata": {
  "kernelspec": {
   "display_name": "Python 3 (ipykernel)",
   "language": "python",
   "name": "python3"
  },
  "language_info": {
   "codemirror_mode": {
    "name": "ipython",
    "version": 3
   },
   "file_extension": ".py",
   "mimetype": "text/x-python",
   "name": "python",
   "nbconvert_exporter": "python",
   "pygments_lexer": "ipython3",
   "version": "3.8.18"
  }
 },
 "nbformat": 4,
 "nbformat_minor": 5
}
